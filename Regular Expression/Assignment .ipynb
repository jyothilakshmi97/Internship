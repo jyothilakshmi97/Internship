{
 "cells": [
  {
   "cell_type": "code",
   "execution_count": 9,
   "id": "4176e676",
   "metadata": {},
   "outputs": [
    {
     "name": "stdout",
     "output_type": "stream",
     "text": [
      "Python:Exercises::PHP:exercises:\n"
     ]
    }
   ],
   "source": [
    "#Question 1-Write a Python program to replace all occurrences of a space, comma, or dot with a colon.\n",
    "import re\n",
    "str =\"Python Exercises, PHP exercises.\"\n",
    "print(re.sub(\"[ .,]\",\":\",str))"
   ]
  },
  {
   "cell_type": "code",
   "execution_count": 10,
   "id": "44ccb545",
   "metadata": {},
   "outputs": [
    {
     "name": "stdout",
     "output_type": "stream",
     "text": [
      "['ello', 'elcome', 'ata', 'ained']\n"
     ]
    }
   ],
   "source": [
    "#Question 2- Write a Python program to find all words starting with 'a' or 'e' in a given string.\n",
    "str =\"Hello welcome to Data Trained\"\n",
    "print(re.findall('[ae]\\w+',str))"
   ]
  },
  {
   "cell_type": "code",
   "execution_count": null,
   "id": "904ff0f6",
   "metadata": {},
   "outputs": [],
   "source": [
    "#Question 3- Create a function in python to find all words that are at least 4 characters long in a string. \n",
    "def f1(string):\n",
    "    pattern ='[a-z,A-Z]{4}\\w+'\n",
    "    repatt=re.compile(pattern)\n",
    "    result=repatt.findall(string)\n",
    "    if result:\n",
    "        print(result)\n",
    "        return('contain atleast 4 characters')\n",
    "    else:\n",
    "        print(result)\n",
    "        return ('not contain atleast 4 characters')"
   ]
  },
  {
   "cell_type": "code",
   "execution_count": null,
   "id": "eefda2d4",
   "metadata": {},
   "outputs": [],
   "source": [
    "print(f1(\"Im Studying data science at Data trained education \"))\n",
    "print(f1(\"hai\"))"
   ]
  },
  {
   "cell_type": "code",
   "execution_count": null,
   "id": "8edfafec",
   "metadata": {},
   "outputs": [],
   "source": [
    "#Question 4- Create a function in python to find all three, four, and five character words in a string. The use of the re.compile() method is mandatory.\n",
    "def f1(string):\n",
    "    result=re.compile('[a-z,A-Z]{3,5}\\w+')\n",
    "    str1=result.findall(string)\n",
    "    return(str1)"
   ]
  },
  {
   "cell_type": "code",
   "execution_count": null,
   "id": "cf13e5c0",
   "metadata": {},
   "outputs": [],
   "source": [
    "print(f1(\"hello welcome to data trained education  \"))"
   ]
  },
  {
   "cell_type": "code",
   "execution_count": null,
   "id": "a96bc459",
   "metadata": {},
   "outputs": [],
   "source": [
    "#Question 5- Create a function in Python to remove the parenthesis in a list of strings. The use of the re.compile() method is mandatory.\n",
    "import re\n",
    "def f1(string):\n",
    "    reS=re.compile('[\\({})]')\n",
    "    for string1 in string:\n",
    "        print(re.sub(reS,\"\",string1))"
   ]
  },
  {
   "cell_type": "code",
   "execution_count": null,
   "id": "3342f81d",
   "metadata": {
    "scrolled": true
   },
   "outputs": [],
   "source": [
    "print(f1([\"example (.com)\", \"hr@fliprobo (.com)\", \"github (.com)\", \"Hello (Data Science World)\", \"Data (Scientist)\"]))"
   ]
  },
  {
   "cell_type": "code",
   "execution_count": null,
   "id": "5ac3aa23",
   "metadata": {},
   "outputs": [],
   "source": [
    "#Question 6- Write a python program to remove the parenthesis area from the text stored in the text file using Regular Expression.\n",
    "with open(r\"C:\\Users\\h````p```\\Documents\\hi\\New Text Document.txt\") as file:\n",
    "     for text in file:\n",
    "            paranthesis=re.sub(r\" ?\\([^)]+\\)\", \"\",text)\n",
    "            print(paranthesis)"
   ]
  },
  {
   "cell_type": "code",
   "execution_count": null,
   "id": "8ec3b938",
   "metadata": {},
   "outputs": [],
   "source": [
    "#Question 7- Write a regular expression in Python to split a string into uppercase letters.\n",
    "text =\"ImportanceOfRegularExpressionsInPython\"\n",
    "result = re.findall(\"([A-Z][^A-Z]*)\",text)\n",
    "print(result)"
   ]
  },
  {
   "cell_type": "code",
   "execution_count": null,
   "id": "7a23d2f3",
   "metadata": {},
   "outputs": [],
   "source": [
    "#8Create a function in python to insert spaces between words starting with numbers.\n",
    "def func(string):\n",
    "    words=re.sub('(\\d+)', r' \\1 ',string)\n",
    "    return(words)"
   ]
  },
  {
   "cell_type": "code",
   "execution_count": null,
   "id": "ad9e1663",
   "metadata": {},
   "outputs": [],
   "source": [
    "print(func(\"RegularExpression1IsAn2ImportantTopic3InPython\"))"
   ]
  },
  {
   "cell_type": "code",
   "execution_count": null,
   "id": "8dce29ed",
   "metadata": {},
   "outputs": [],
   "source": [
    "#9Create a function in python to insert spaces between words starting with capital letters or with numbers.\n",
    "def func(string):\n",
    "    words=re.sub(\"(\\w)([A-Z])\", r\"\\1 \\2\",string)\n",
    "    return(words)"
   ]
  },
  {
   "cell_type": "code",
   "execution_count": null,
   "id": "5d7aa0c4",
   "metadata": {},
   "outputs": [],
   "source": [
    "print(func(\"RegularExpression1IsAn2ImportantTopic3InPython\"))"
   ]
  },
  {
   "cell_type": "code",
   "execution_count": null,
   "id": "8687484b",
   "metadata": {},
   "outputs": [],
   "source": [
    "#10)Write a python program to extract email address from the text stored in the text file using Regular Expression.\n",
    "with open(r\"C:\\Users\\h````p```\\Documents\\hi\\New Text Document (2).txt\") as file:\n",
    "     for mail in file:\n",
    "            email=re.findall(\"[a-zA-Z0–9._%+-]+@[a-zA-Z0–9.-]+\\.[a-zA-Z]{2,}\",mail)\n",
    "            print(email)"
   ]
  },
  {
   "cell_type": "code",
   "execution_count": null,
   "id": "55af9147",
   "metadata": {},
   "outputs": [],
   "source": [
    "#11-) Write a Python program to match a string that contains only upper and lowercase letters, numbers, and underscores.\n",
    "string =input(\"enter string\")\n",
    "pattern= '[a-z,A-Z]+[0-9_]+'\n",
    "X = re.findall(pattern,string)\n",
    "if X:\n",
    "    print(X)\n",
    "    print('match')\n",
    "else:\n",
    "    print('not matched')"
   ]
  },
  {
   "cell_type": "code",
   "execution_count": null,
   "id": "7e741ddf",
   "metadata": {},
   "outputs": [],
   "source": [
    "#12)Write a Python program where a string will start with a specific number. \n",
    "import re\n",
    "string =\"3datascience123_\"\n",
    "X=re.findall(r'\\b3[\\w]*', string)\n",
    "if X:\n",
    "    print(True)\n",
    "else:\n",
    "    print(False)"
   ]
  },
  {
   "cell_type": "code",
   "execution_count": null,
   "id": "34f01971",
   "metadata": {},
   "outputs": [],
   "source": [
    "#13)Write a Python program to remove leading zeros from an IP address\n",
    "\n",
    "ip =\"216.08.094.196\"\n",
    "string=re.sub('\\.[0]*','.',ip)\n",
    "print(string)"
   ]
  },
  {
   "cell_type": "code",
   "execution_count": null,
   "id": "f06fc61f",
   "metadata": {},
   "outputs": [],
   "source": [
    "#14)Write a regular expression in python to match a date string in the form of Month name followed by day number and year stored in a text file.\n",
    "string= \"On August 15th 1947 that India was declared independent from British colonialism\"\n",
    "pattern = \"([a-zA-Z]+) (\\d+[a-z]+) (\\d+)\"\n",
    "matched = re.search(pattern, string)\n",
    "print (\"%s\" % (matched.group()))"
   ]
  },
  {
   "cell_type": "code",
   "execution_count": null,
   "id": "991a2946",
   "metadata": {},
   "outputs": [],
   "source": [
    "#15)Write a Python program to search some literals strings in a string. \n",
    "patterns=['fox','dog','horse']\n",
    "text ='The Quick brown fox jumps over the lazy dog'\n",
    "for pattern in patterns:\n",
    "    print('searching for \"%s\" in \"%s\"' %(pattern,text))\n",
    "    x=re.findall(pattern,text)\n",
    "    if x:\n",
    "        print(x)\n",
    "        print('literal found')\n",
    "    else:\n",
    "        print(x)\n",
    "        print('literal not found')\n",
    "        "
   ]
  },
  {
   "cell_type": "code",
   "execution_count": null,
   "id": "5bf06aef",
   "metadata": {},
   "outputs": [],
   "source": [
    "#16)Write a Python program to search a literals string in a string and also find the location within the original string where the pattern occurs\n",
    "pattern = 'fox'\n",
    "text = 'The quick brown fox jumps over the lazy dog.'\n",
    "match = re.search(pattern, text)\n",
    "s = match.start()\n",
    "e = match.end()\n",
    "print('\"%s\" , %d to %d ' %(match.re.pattern,s, e))"
   ]
  },
  {
   "cell_type": "code",
   "execution_count": null,
   "id": "be6c54ad",
   "metadata": {},
   "outputs": [],
   "source": [
    "#17-) Write a Python program to find the substrings within a string.\n",
    "text = 'Python exercises, PHP exercises, C# exercises'\n",
    "pattern = 'exercises'\n",
    "for match in re.findall(pattern, text):\n",
    "    print(match)"
   ]
  },
  {
   "cell_type": "code",
   "execution_count": null,
   "id": "f5d9f482",
   "metadata": {},
   "outputs": [],
   "source": [
    "#18- Write a Python program to find the occurrence and position of the substrings within a string.\n",
    "text = 'Python exercises, PHP exercises, C# exercises'\n",
    "pattern = 'exercises'\n",
    "for match in re.finditer(pattern, text):\n",
    "    s = match.start()\n",
    "    e = match.end()\n",
    "    print('\"%s\" at %d:%d' % (text[s:e], s, e))"
   ]
  },
  {
   "cell_type": "code",
   "execution_count": null,
   "id": "5652f7b2",
   "metadata": {},
   "outputs": [],
   "source": [
    "#19)Write a Python program to convert a date of yyyy-mm-dd format to dd-mm-yyyy format.\n",
    "date1 =\"2023-01-02\"\n",
    "print('yy-mm-dd format',date1)\n",
    "print('new date format',re.sub(r'(\\d{4})-(\\d{1,2})-(\\d{1,2})', '\\\\3-\\\\2-\\\\1', date1))"
   ]
  },
  {
   "cell_type": "code",
   "execution_count": null,
   "id": "66d04128",
   "metadata": {},
   "outputs": [],
   "source": [
    "#20Create a function in python to find all decimal numbers with a precision of 1 or 2 in a string.The use of the re.compile() method is mandatory.\n",
    "def decimal(numb):\n",
    "    d = re.compile(r\"\"\"^[0-9]+(\\.[0-9]{1,2})?$\"\"\")\n",
    "    result =d.findall(numb)\n",
    "    return bool(result)\n"
   ]
  },
  {
   "cell_type": "code",
   "execution_count": null,
   "id": "e225086b",
   "metadata": {},
   "outputs": [],
   "source": [
    "print(decimal('20.9'))\n",
    "print(decimal('20.45'))\n",
    "print(decimal('28.456'))"
   ]
  },
  {
   "cell_type": "code",
   "execution_count": null,
   "id": "45127fc2",
   "metadata": {},
   "outputs": [],
   "source": [
    "#21)Write a Python program to separate and print the numbers and their position of a given string.\n",
    "text = \"welcome to DataTrained family DSG0123\"\n",
    "for m in re.finditer(\"\\d+\", text):\n",
    "    print(m.group(0))\n"
   ]
  },
  {
   "cell_type": "code",
   "execution_count": null,
   "id": "f9890aa6",
   "metadata": {},
   "outputs": [],
   "source": [
    "#22)Extract maximum numeric value from a string\n",
    "def Max(marks):\n",
    "    numbers = re.findall('\\d+',marks)\n",
    "    print(numbers)\n",
    "    numbers = map(int,numbers) \n",
    "    print (\"Maximum Numeric value \",max(numbers))"
   ]
  },
  {
   "cell_type": "code",
   "execution_count": null,
   "id": "6e4d558e",
   "metadata": {},
   "outputs": [],
   "source": [
    "Max('947, 896, 926, 524, 734, 950, 642')"
   ]
  },
  {
   "cell_type": "code",
   "execution_count": null,
   "id": "776fc7af",
   "metadata": {},
   "outputs": [],
   "source": [
    "#23Create a function in python to insert spaces between words starting with capital letters.\n",
    "def func(string):\n",
    "    words = re.findall('[A-Z][a-z]*',string)\n",
    "    return(' '.join(words))"
   ]
  },
  {
   "cell_type": "code",
   "execution_count": null,
   "id": "eb63c841",
   "metadata": {},
   "outputs": [],
   "source": [
    "print(func('RegularExpressionIsAnImportantTopicInPython'))"
   ]
  },
  {
   "cell_type": "code",
   "execution_count": null,
   "id": "113dfe51",
   "metadata": {},
   "outputs": [],
   "source": [
    "#24)Python regex to find sequences of one upper case letter followed by lower case letters\n",
    "def match(text):\n",
    "    pattern ='[A-Z][a-z]*$'\n",
    "    if re.search(pattern,text):\n",
    "        return('yes match')\n",
    "    else:\n",
    "        return('no')"
   ]
  },
  {
   "cell_type": "code",
   "execution_count": null,
   "id": "435c8404",
   "metadata": {},
   "outputs": [],
   "source": [
    "print(match(\"welcome\"))\n",
    "print(match(\"Welcome\"))"
   ]
  },
  {
   "cell_type": "code",
   "execution_count": null,
   "id": "06929302",
   "metadata": {},
   "outputs": [],
   "source": [
    "#25)Write a Python program to remove continuous duplicate words from Sentence using Regular Expression.\n",
    "def f(string):\n",
    "    dup = r'\\b(\\w+)(?:\\W+\\1\\b)+'\n",
    "    return(re.sub(dup, r'\\1', string)) "
   ]
  },
  {
   "cell_type": "code",
   "execution_count": null,
   "id": "25ebf2f4",
   "metadata": {},
   "outputs": [],
   "source": [
    "print(f('Data TRAINED TRAINED'))"
   ]
  },
  {
   "cell_type": "code",
   "execution_count": null,
   "id": "075cf009",
   "metadata": {},
   "outputs": [],
   "source": [
    "#26)Write a python program using RegEx to accept string ending with alphanumeric character.\n",
    "def regex(text):\n",
    "    pattern='[A-Za-z0-9]$'\n",
    "    if re.search(pattern,text):\n",
    "        return('string ends with alphanumeric charctr')\n",
    "    else:\n",
    "        return('string not ends with alphanumeric')"
   ]
  },
  {
   "cell_type": "code",
   "execution_count": null,
   "id": "f17079d2",
   "metadata": {},
   "outputs": [],
   "source": [
    "print(regex(\"datascience@#\"))\n",
    "print(regex(\"datatrained123\"))\n",
    "print(regex(\"fliprobo.\"))"
   ]
  },
  {
   "cell_type": "code",
   "execution_count": null,
   "id": "a488994b",
   "metadata": {},
   "outputs": [],
   "source": [
    "#27)Write a python program using RegEx to extract the hashtags\n",
    "\n",
    "text = \"\"\"RT @kapil_kausik: #Doltiwal I mean #xyzabc is \"hurt\" by #Demonetization as the same has rendered USELESS<ed><U+00A0>\n",
    "<U+00BD><ed><U+00B1><U+0089> \"acquired funds\" No wo\"\"\"\n",
    "hashtags = re.findall(\"#\\w+\", text)\n",
    "print(text)\n",
    "print(\"hashtags:\",hashtags)"
   ]
  },
  {
   "cell_type": "code",
   "execution_count": null,
   "id": "e4500591",
   "metadata": {},
   "outputs": [],
   "source": [
    "#28Write a python program using RegEx to remove <U+..> like symbols\n",
    "text= \"@Jags123456 Bharat band on 28??<ed><U+00A0><U+00BD><ed><U+00B8><U+0082>Those whoare protesting#demonetization are all different party leaders\"\n",
    "text1 = re.sub(r\"<U\\+[A-Z0-9]+>\", \"\", text)\n",
    "print(\"Text before:\\n\", text)\n",
    "print(\"Text after:\\n\", text1)"
   ]
  },
  {
   "cell_type": "code",
   "execution_count": null,
   "id": "65512592",
   "metadata": {},
   "outputs": [],
   "source": [
    "#29)Write a python program to extract dates from the text stored in the text file.\n",
    "with open(\"C:/Users/s/Documents/file/f1.txt\") as file:\n",
    "     for date in file:\n",
    "            datextra=re.findall(r\"\\d{2}-\\d{2}-\\d{4}\",date)\n",
    "            print(datextra)\n",
    "    "
   ]
  },
  {
   "cell_type": "code",
   "execution_count": null,
   "id": "b8cd1271",
   "metadata": {},
   "outputs": [],
   "source": [
    "#30)Create a function in python to remove all words from a string of length between 2 and 4.\n",
    "import re\n",
    "def f1(string):\n",
    "    pattern =r'\\b\\w{,3}\\b' \n",
    "    result=re.compile(pattern)\n",
    "    return(re.sub(result,\"\",string))"
   ]
  },
  {
   "cell_type": "code",
   "execution_count": null,
   "id": "f1b31794",
   "metadata": {},
   "outputs": [],
   "source": [
    "print(f1(\"The following example creates an ArrayList with a capacity of 50 elements. 4 elements are then added to the ArrayListand the ArrayListis trimmed accordingly.\"))"
   ]
  }
 ],
 "metadata": {
  "kernelspec": {
   "display_name": "Python 3 (ipykernel)",
   "language": "python",
   "name": "python3"
  },
  "language_info": {
   "codemirror_mode": {
    "name": "ipython",
    "version": 3
   },
   "file_extension": ".py",
   "mimetype": "text/x-python",
   "name": "python",
   "nbconvert_exporter": "python",
   "pygments_lexer": "ipython3",
   "version": "3.9.13"
  }
 },
 "nbformat": 4,
 "nbformat_minor": 5
}
